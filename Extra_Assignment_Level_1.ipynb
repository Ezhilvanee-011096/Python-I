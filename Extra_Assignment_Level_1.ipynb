{
 "cells": [
  {
   "cell_type": "code",
   "execution_count": 11,
   "id": "541ae90c-db90-4fbc-b90c-a3044c4db2d0",
   "metadata": {},
   "outputs": [
    {
     "name": "stdout",
     "output_type": "stream",
     "text": [
      "HOPE AI\n"
     ]
    }
   ],
   "source": [
    "# print Statement\n",
    "print(\"HOPE AI\")"
   ]
  },
  {
   "cell_type": "code",
   "execution_count": 12,
   "id": "b7271378-0b18-42da-ad0d-44e01928adf3",
   "metadata": {},
   "outputs": [
    {
     "name": "stdin",
     "output_type": "stream",
     "text": [
      "Enter your institute name? : HOPE AI\n"
     ]
    }
   ],
   "source": [
    "# Buy input\n",
    "institute = input(\"Enter your institute name? :\")"
   ]
  },
  {
   "cell_type": "code",
   "execution_count": 13,
   "id": "4ecdef52-3fbc-466d-ad5a-faed6e8b3857",
   "metadata": {},
   "outputs": [
    {
     "name": "stdin",
     "output_type": "stream",
     "text": [
      "Enter your name: Raj\n",
      "Enter your age: 15\n",
      "Enter your school name: Guru school\n",
      "Enter your drgree: B.E CSE\n"
     ]
    }
   ],
   "source": [
    "# Buy inputs\n",
    "name = input(\"Enter your name:\")\n",
    "age = int(input(\"Enter your age:\"))\n",
    "school = input(\"Enter your school name:\")\n",
    "degree = input(\"Enter your drgree:\")"
   ]
  },
  {
   "cell_type": "code",
   "execution_count": 7,
   "id": "c72ac077-b758-4b1b-ab53-153fb3dba847",
   "metadata": {},
   "outputs": [
    {
     "name": "stdout",
     "output_type": "stream",
     "text": [
      "a= 43\n",
      "b= 34\n",
      "add = 77\n"
     ]
    }
   ],
   "source": [
    "# Addition\n",
    "a = 43\n",
    "b = 34\n",
    "print(\"a=\", a)\n",
    "print(\"b=\", b)\n",
    "print(\"add =\", a + b)"
   ]
  },
  {
   "cell_type": "code",
   "execution_count": 9,
   "id": "c87e663d-fe6a-4fdb-8548-e65fdba3aa14",
   "metadata": {},
   "outputs": [
    {
     "name": "stdout",
     "output_type": "stream",
     "text": [
      "a= 43\n",
      "b= 34\n",
      "Sub = 9\n"
     ]
    }
   ],
   "source": [
    "# Subtraction\n",
    "a = 43\n",
    "b = 34\n",
    "print(\"a=\", a)\n",
    "print(\"b=\", b)\n",
    "print(\"Sub =\", a - b)"
   ]
  },
  {
   "cell_type": "code",
   "execution_count": 10,
   "id": "4b1d6a1a-7fe5-49fa-9320-5f4032ba0421",
   "metadata": {},
   "outputs": [
    {
     "name": "stdout",
     "output_type": "stream",
     "text": [
      "a= 63\n",
      "b= 97\n",
      "Mul = 6111\n"
     ]
    }
   ],
   "source": [
    "# Multiplication\n",
    "a = 63\n",
    "b = 97\n",
    "print(\"a=\", a)\n",
    "print(\"b=\", b)\n",
    "print(\"Mul =\", a * b)"
   ]
  },
  {
   "cell_type": "code",
   "execution_count": 16,
   "id": "ba868bab-5e67-448e-9a84-4128aa0d9b09",
   "metadata": {},
   "outputs": [
    {
     "name": "stdout",
     "output_type": "stream",
     "text": [
      "a= 76\n",
      "b= 31\n",
      "Float Div = 2.4516129032258065\n"
     ]
    }
   ],
   "source": [
    "# Division\n",
    "a = 76\n",
    "b = 31\n",
    "print(\"a=\", a)\n",
    "print(\"b=\", b)\n",
    "print(\"Float Div =\", float(a / b))"
   ]
  },
  {
   "cell_type": "code",
   "execution_count": 18,
   "id": "c670addc-821e-49df-ac0e-ab69c58a34b8",
   "metadata": {},
   "outputs": [
    {
     "name": "stdout",
     "output_type": "stream",
     "text": [
      "a= 76\n",
      "b= 31\n",
      "Floor Div = 2\n"
     ]
    }
   ],
   "source": [
    "# Floor Division\n",
    "import math\n",
    "\n",
    "a = 76\n",
    "b = 31\n",
    "print(\"a=\", a)\n",
    "print(\"b=\", b)\n",
    "print(\"Floor Div =\", math.floor(a / b))"
   ]
  },
  {
   "cell_type": "code",
   "execution_count": 20,
   "id": "a1d8d22c-ed5e-4650-95ef-fdcc8946a5c6",
   "metadata": {},
   "outputs": [
    {
     "name": "stdout",
     "output_type": "stream",
     "text": [
      "a= 76\n",
      "b= 31\n",
      "Modulo = 14\n"
     ]
    }
   ],
   "source": [
    "# Modulo\n",
    "a = 76\n",
    "b = 31\n",
    "print(\"a=\", a)\n",
    "print(\"b=\", b)\n",
    "print(\"Modulo =\", a % b)"
   ]
  },
  {
   "cell_type": "code",
   "execution_count": 21,
   "id": "8268a1e8-ca6f-4f2e-a8b1-77aa22478bd4",
   "metadata": {},
   "outputs": [
    {
     "name": "stdout",
     "output_type": "stream",
     "text": [
      "a= 4\n",
      "b= 4\n",
      "Power = 256\n"
     ]
    }
   ],
   "source": [
    "# Power\n",
    "a = 4\n",
    "b = 4\n",
    "print(\"a=\", a)\n",
    "print(\"b=\", b)\n",
    "print(\"Power =\", a ** b)"
   ]
  },
  {
   "cell_type": "code",
   "execution_count": null,
   "id": "55c3ea0e-3364-430b-8c97-27d1a96798e7",
   "metadata": {},
   "outputs": [],
   "source": []
  }
 ],
 "metadata": {
  "kernelspec": {
   "display_name": "Python 3 (ipykernel)",
   "language": "python",
   "name": "python3"
  },
  "language_info": {
   "codemirror_mode": {
    "name": "ipython",
    "version": 3
   },
   "file_extension": ".py",
   "mimetype": "text/x-python",
   "name": "python",
   "nbconvert_exporter": "python",
   "pygments_lexer": "ipython3",
   "version": "3.12.7"
  }
 },
 "nbformat": 4,
 "nbformat_minor": 5
}
