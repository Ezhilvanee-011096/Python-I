{
 "cells": [
  {
   "cell_type": "code",
   "execution_count": 5,
   "id": "d9c9a3e3-e8f6-4cc8-ae31-90750b41f34c",
   "metadata": {},
   "outputs": [
    {
     "name": "stdout",
     "output_type": "stream",
     "text": [
      "Sub-fields in AI are:\n",
      "Machine Learning\n",
      "Neural Networks\n",
      "Vision\n",
      "Robotics\n",
      "Speech Processing\n",
      "Natural Language Processing\n"
     ]
    }
   ],
   "source": [
    "item_list = ['Machine Learning', 'Neural Networks', 'Vision', 'Robotics', 'Speech Processing', 'Natural Language Processing']\n",
    "def sub_fields():\n",
    "    for item in item_list:\n",
    "        print(item)\n",
    "\n",
    "print('Sub-fields in AI are:')\n",
    "sub_fields()"
   ]
  },
  {
   "cell_type": "code",
   "execution_count": 8,
   "id": "b22830b2-3793-4fc1-bbc4-41d9dd03dd85",
   "metadata": {},
   "outputs": [
    {
     "name": "stdin",
     "output_type": "stream",
     "text": [
      "Enter a number: 52452\n"
     ]
    },
    {
     "name": "stdout",
     "output_type": "stream",
     "text": [
      "52452 is Even number\n"
     ]
    }
   ],
   "source": [
    "def odd_even(num):\n",
    "    if((num % 2) == 0):\n",
    "        print(num, 'is Even number')\n",
    "    else:\n",
    "        print(num, 'is  Odd number')\n",
    "\n",
    "number = int(input(\"Enter a number:\"))\n",
    "odd_even(number)"
   ]
  },
  {
   "cell_type": "code",
   "execution_count": 10,
   "id": "1b798c60-7665-4b30-8f57-cff043fa896e",
   "metadata": {},
   "outputs": [
    {
     "name": "stdin",
     "output_type": "stream",
     "text": [
      "Your Gender: Male\n",
      "Your Age: 20\n"
     ]
    },
    {
     "name": "stdout",
     "output_type": "stream",
     "text": [
      "NOT ELIGIBLE\n"
     ]
    }
   ],
   "source": [
    "def eligible(gen, age):\n",
    "    if((gen.lower() == 'male' and age >= 21) or (gen.lower() == 'female' and age >= 18)):\n",
    "        print('ELIGIBLE')\n",
    "    else:\n",
    "        print('NOT ELIGIBLE')\n",
    "\n",
    "gender = input(\"Your Gender:\")\n",
    "aged = int(input(\"Your Age:\"))\n",
    "eligible(gender, aged)"
   ]
  },
  {
   "cell_type": "code",
   "execution_count": 20,
   "id": "2382c568-c762-48a1-bcc9-6f394d5f6f8f",
   "metadata": {},
   "outputs": [
    {
     "name": "stdin",
     "output_type": "stream",
     "text": [
      "Subject1= 98\n",
      "Subject2= 87\n",
      "Subject3= 95\n",
      "Subject4= 95\n",
      "Subject5= 93\n"
     ]
    },
    {
     "name": "stdout",
     "output_type": "stream",
     "text": [
      "Total : 468\n",
      "Average : 93.6\n"
     ]
    }
   ],
   "source": [
    "def percentage(mark_list):\n",
    "    add = 0\n",
    "    for marks in mark_list:\n",
    "        add += marks\n",
    "        avg = float(add / 5)\n",
    "    print(\"Total :\", add)\n",
    "    print(\"Average :\", float(avg))\n",
    "\n",
    "\n",
    "subject_count = 5\n",
    "subject_list = []\n",
    "for n in range(subject_count):\n",
    "    marks = int(input(f\"Subject{n+1}=\"))\n",
    "    subject_list.append(marks)\n",
    "percentage(subject_list)"
   ]
  },
  {
   "cell_type": "code",
   "execution_count": 18,
   "id": "36af2195-81d6-44db-9458-78219bd56553",
   "metadata": {},
   "outputs": [
    {
     "name": "stdin",
     "output_type": "stream",
     "text": [
      "Height: 32\n",
      "Breadth: 34\n"
     ]
    },
    {
     "name": "stdout",
     "output_type": "stream",
     "text": [
      "Area formula: (Height*Breadth)/2\n",
      "Area of Triangle: 544.0\n"
     ]
    },
    {
     "name": "stdin",
     "output_type": "stream",
     "text": [
      "Height1: 2\n",
      "Height2: 4\n",
      "Breadth: 4\n"
     ]
    },
    {
     "name": "stdout",
     "output_type": "stream",
     "text": [
      "Perimeter formula: Height1+Height2+Breadth\n",
      "Perimeter of Triangle: 10\n"
     ]
    }
   ],
   "source": [
    "def calc_area(h, b):\n",
    "    print(\"Area formula: (Height*Breadth)/2\")\n",
    "    print(\"Area of Triangle:\", ((h * b)/2))\n",
    "    \n",
    "def calc_perimeter(h1, h2, b):\n",
    "    print(\"Perimeter formula: Height1+Height2+Breadth\")\n",
    "    print(\"Perimeter of Triangle:\", (h1 + h2 + b))\n",
    "\n",
    "height = int(input(\"Height:\"))\n",
    "breadth = int(input(\"Breadth:\"))\n",
    "calc_area(height, breadth)\n",
    "\n",
    "height1 = int(input(\"Height1:\"))\n",
    "height2 = int(input(\"Height2:\"))\n",
    "breadth = int(input(\"Breadth:\"))\n",
    "calc_perimeter(height1, height2, breadth)\n",
    "    "
   ]
  },
  {
   "cell_type": "code",
   "execution_count": null,
   "id": "6447d32b-1683-4921-9731-157cc70fb067",
   "metadata": {},
   "outputs": [],
   "source": []
  }
 ],
 "metadata": {
  "kernelspec": {
   "display_name": "Python 3 (ipykernel)",
   "language": "python",
   "name": "python3"
  },
  "language_info": {
   "codemirror_mode": {
    "name": "ipython",
    "version": 3
   },
   "file_extension": ".py",
   "mimetype": "text/x-python",
   "name": "python",
   "nbconvert_exporter": "python",
   "pygments_lexer": "ipython3",
   "version": "3.12.7"
  }
 },
 "nbformat": 4,
 "nbformat_minor": 5
}
