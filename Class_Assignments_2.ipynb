{
 "cells": [
  {
   "cell_type": "code",
   "execution_count": 1,
   "id": "d9c9a3e3-e8f6-4cc8-ae31-90750b41f34c",
   "metadata": {},
   "outputs": [],
   "source": [
    "from Multiple_Functions import Funtion_group"
   ]
  },
  {
   "cell_type": "code",
   "execution_count": 13,
   "id": "ee63bbf3-9938-4f40-b649-ad7616bdf361",
   "metadata": {},
   "outputs": [
    {
     "name": "stdout",
     "output_type": "stream",
     "text": [
      "Sub-fields in AI are:\n",
      "Machine Learning\n",
      "Neural Networks\n",
      "Vision\n",
      "Robotics\n",
      "Speech Processing\n",
      "Natural Language Processing\n"
     ]
    }
   ],
   "source": [
    "Funtion_group.sub_fields()"
   ]
  },
  {
   "cell_type": "code",
   "execution_count": 5,
   "id": "b22830b2-3793-4fc1-bbc4-41d9dd03dd85",
   "metadata": {},
   "outputs": [
    {
     "name": "stdin",
     "output_type": "stream",
     "text": [
      "Enter a number: 52456\n"
     ]
    },
    {
     "name": "stdout",
     "output_type": "stream",
     "text": [
      "52456 is Even number\n"
     ]
    }
   ],
   "source": [
    "number = int(input(\"Enter a number:\"))\n",
    "Funtion_group.odd_even(number)"
   ]
  },
  {
   "cell_type": "code",
   "execution_count": 6,
   "id": "1b798c60-7665-4b30-8f57-cff043fa896e",
   "metadata": {},
   "outputs": [
    {
     "name": "stdin",
     "output_type": "stream",
     "text": [
      "Your Gender: Male\n",
      "Your Age: 20\n"
     ]
    },
    {
     "name": "stdout",
     "output_type": "stream",
     "text": [
      "NOT ELIGIBLE\n"
     ]
    }
   ],
   "source": [
    "gender = input(\"Your Gender:\")\n",
    "aged = int(input(\"Your Age:\"))\n",
    "Funtion_group.eligible(gender, aged)"
   ]
  },
  {
   "cell_type": "code",
   "execution_count": 2,
   "id": "2382c568-c762-48a1-bcc9-6f394d5f6f8f",
   "metadata": {},
   "outputs": [
    {
     "name": "stdin",
     "output_type": "stream",
     "text": [
      "Subject1= 98\n",
      "Subject2= 87\n",
      "Subject3= 95\n",
      "Subject4= 95\n",
      "Subject5= 93\n"
     ]
    },
    {
     "name": "stdout",
     "output_type": "stream",
     "text": [
      "Total : 468\n",
      "Average : 93.6\n"
     ]
    }
   ],
   "source": [
    "Funtion_group.percentage()"
   ]
  },
  {
   "cell_type": "code",
   "execution_count": 3,
   "id": "36af2195-81d6-44db-9458-78219bd56553",
   "metadata": {},
   "outputs": [
    {
     "name": "stdin",
     "output_type": "stream",
     "text": [
      "Height: 32\n",
      "Breadth: 34\n"
     ]
    },
    {
     "name": "stdout",
     "output_type": "stream",
     "text": [
      "Area formula: (Height*Breadth)/2\n",
      "Area of Triangle: 544.0\n"
     ]
    },
    {
     "name": "stdin",
     "output_type": "stream",
     "text": [
      "Height1: 2\n",
      "Height2: 4\n",
      "Breadth: 4\n"
     ]
    },
    {
     "name": "stdout",
     "output_type": "stream",
     "text": [
      "Perimeter formula: Height1+Height2+Breadth\n",
      "Perimeter of Triangle: 10\n"
     ]
    }
   ],
   "source": [
    "height = int(input(\"Height:\"))\n",
    "breadth = int(input(\"Breadth:\"))\n",
    "Funtion_group.calc_area(height, breadth)\n",
    "\n",
    "height1 = int(input(\"Height1:\"))\n",
    "height2 = int(input(\"Height2:\"))\n",
    "breadth = int(input(\"Breadth:\"))\n",
    "Funtion_group.calc_perimeter(height1, height2, breadth)\n",
    "    "
   ]
  },
  {
   "cell_type": "code",
   "execution_count": null,
   "id": "6447d32b-1683-4921-9731-157cc70fb067",
   "metadata": {},
   "outputs": [],
   "source": []
  }
 ],
 "metadata": {
  "kernelspec": {
   "display_name": "Python 3 (ipykernel)",
   "language": "python",
   "name": "python3"
  },
  "language_info": {
   "codemirror_mode": {
    "name": "ipython",
    "version": 3
   },
   "file_extension": ".py",
   "mimetype": "text/x-python",
   "name": "python",
   "nbconvert_exporter": "python",
   "pygments_lexer": "ipython3",
   "version": "3.12.7"
  }
 },
 "nbformat": 4,
 "nbformat_minor": 5
}
