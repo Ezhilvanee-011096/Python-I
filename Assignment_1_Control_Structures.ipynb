{
 "cells": [
  {
   "cell_type": "code",
   "execution_count": 1,
   "id": "e7518583-e22b-4893-ac9f-5c883c8588d1",
   "metadata": {},
   "outputs": [
    {
     "name": "stdout",
     "output_type": "stream",
     "text": [
      "Welcome to Assignment-1\n"
     ]
    }
   ],
   "source": [
    "print(\"Welcome to Assignment-1\")"
   ]
  },
  {
   "cell_type": "code",
   "execution_count": 2,
   "id": "9af40888-ae8a-498c-9e92-37c3250244c2",
   "metadata": {},
   "outputs": [
    {
     "name": "stdout",
     "output_type": "stream",
     "text": [
      "Num1= 10\n",
      "Num2= 30\n",
      "Add= 40\n"
     ]
    }
   ],
   "source": [
    "num1 = 10\n",
    "num2 = 30\n",
    "print(\"Num1=\", num1)\n",
    "print(\"Num2=\", num2)\n",
    "print(\"Add=\", num1 + num2)"
   ]
  },
  {
   "cell_type": "code",
   "execution_count": 18,
   "id": "6d11c2ba-8ed8-486b-8b2b-cc8b7ef0e84d",
   "metadata": {},
   "outputs": [
    {
     "name": "stdin",
     "output_type": "stream",
     "text": [
      "Enter the BMI Index: 34\n"
     ]
    },
    {
     "name": "stdout",
     "output_type": "stream",
     "text": [
      "Obese class I\n"
     ]
    }
   ],
   "source": [
    "#BMI Calculator\n",
    "\n",
    "bmi = float(input(\"Enter the BMI Index:\"))\n",
    "if(bmi < 18.5):\n",
    "    print(\"Underweight\")\n",
    "elif(bmi <= 24.9):\n",
    "    print(\"Normal Range\")\n",
    "elif(bmi <= 29.99):\n",
    "    print(\"Overweight\")\n",
    "elif(bmi >= 30):\n",
    "    if(bmi <= 34.9):\n",
    "        print(\"Obese class I\")\n",
    "    elif(bmi <= 39.99):\n",
    "        print(\"Obese class II\")\n",
    "    elif(bmi >= 40):\n",
    "        print(\"Obese class III\")\n",
    "else:\n",
    "    print(\"Invalid BMI Index!\")"
   ]
  },
  {
   "cell_type": "code",
   "execution_count": null,
   "id": "065c921d-f06a-49c0-8aab-334d0c744a9d",
   "metadata": {},
   "outputs": [],
   "source": []
  }
 ],
 "metadata": {
  "kernelspec": {
   "display_name": "Python 3 (ipykernel)",
   "language": "python",
   "name": "python3"
  },
  "language_info": {
   "codemirror_mode": {
    "name": "ipython",
    "version": 3
   },
   "file_extension": ".py",
   "mimetype": "text/x-python",
   "name": "python",
   "nbconvert_exporter": "python",
   "pygments_lexer": "ipython3",
   "version": "3.12.7"
  }
 },
 "nbformat": 4,
 "nbformat_minor": 5
}
